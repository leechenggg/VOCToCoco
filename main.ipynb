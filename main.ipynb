{
 "cells": [
  {
   "cell_type": "markdown",
   "metadata": {},
   "source": [
    "## 一、项目背景\n",
    "\n",
    " 目标检测应用于非标准场景时，大部分数据集在网上难以找到，例如工业现场的表面缺陷检测，应用场景大部分都不相似，数据集差异很大。通常需要我们自己去制作数据集。\n",
    " \n",
    " 飞浆框架中的[PaddleDetection](https://github.com/PaddlePaddle/PaddleDetection)套件与[PaddleX](https://github.com/PaddlePaddle/PaddleX)全流程套件可以很好的帮助我们解决目标检测任务，因此自制适用于飞浆框架的数据集是开始目标检测任务的第一步。本项目较为详细的讲述如何自制VOC数据集如何将VOC数据集转换为COCO格式，以及对数据集的一些处理，使得自己的数据集能够完整的跑通模型."
   ]
  },
  {
   "cell_type": "markdown",
   "metadata": {},
   "source": [
    "## 二、PaddleX与PaddleDetection对比\n",
    "**PaddleX与PaddleDetection都可以非常方便的实现目标检测任务**。\n",
    "\n",
    "PaddleX集成飞桨智能视觉领域图像分类、目标检测、语义分割、实例分割任务能力，将深度学习开发全流程从数据准备、模型训练与优化到多端部署端到端打通，同时PaddleX推出GUI界面软件。PaddleX更适合新入门的小白，或者没有python基础的传统机器视觉从业者。\n",
    "\n",
    "**GUI产品全景图：**\n",
    "![](https://ai-studio-static-online.cdn.bcebos.com/51444609b06c44d6aaf37ee490ddc43391cbb1c061d3438186381508c23e313c)\n",
    "\n",
    "更多介绍：[PaddleX](https://github.com/PaddlePaddle/PaddleX)\n",
    "\n",
    "PaddleDetection为基于飞桨PaddlePaddle的端到端目标检测套件，内置30+模型算法及250+预训练模型，提供目标检测、实例分割、多目标跟踪、关键点检测等多种能力。PaddleDetection相对来说更加适合有一定目标检测基础的开发者，它封装没有PaddleX那么高，可以对模型网络进行进行一定的修改更加利于二次开发，同时支持迁移学习。\n",
    "\n",
    "更多介绍：[PaddleDetection](https://github.com/PaddlePaddle/PaddleDetection)\n",
    "\n",
    " "
   ]
  },
  {
   "cell_type": "markdown",
   "metadata": {},
   "source": [
    "## 三、数据格式说明\n",
    "### 3.1 PaddleX支持的数据集格式\n",
    "在PaddleX中，目标检测支持PascalVOC数据集格式。\n",
    "\n",
    "VOC数据是Pascal VOC 比赛使用的数据。Pascal VOC比赛不仅包含图像分类分类任务，还包含图像目标检测、图像分割等任务，其标注文件中包含多个任务的标注内容。**VOC数据是每个图像文件对应一个同名的xml文件**，xml文件中标记物体框的坐标和类别等信息。\n",
    "\n",
    "更多介绍：[PaddleX目标检测数据格式](https://github.com/PaddlePaddle/PaddleX/blob/develop/docs/data/format/detection.md)\n",
    "### 3.1 PaddleDetection支持的数据集格式\n",
    "PaddleDetection默认支持COCO和Pascal VOC 格式\n",
    "\n",
    "COCO数据是COCO 比赛使用的数据。同样的，COCO比赛数也包含多个比赛任务，其标注文件中包含多个任务的标注内容。 COCO数据集指的是COCO比赛使用的数据。用户自定义的COCO数据，json文件中的一些字段，请根据实际情况选择是否标注或是否使用默认值。\n",
    "**COCO数据标注是将所有训练图像的标注都存放到一个json文件中**。数据以字典嵌套的形式存放。\n",
    "\n",
    "本项目主要讲解VOC数据集制作，以及如何将VOC数据格式转换为COCO格式\n",
    "\n",
    "更多介绍：[PaddleDetection目标检测数据格式](https://github.com/PaddlePaddle/PaddleDetection/blob/release/2.4/docs/tutorials/PrepareDataSet.md)"
   ]
  },
  {
   "cell_type": "markdown",
   "metadata": {},
   "source": [
    "## 四、图像数据处理\n",
    "不管是voc数据集还是coco数据集通常需要.jpg格式，并且如何批量修改图像尺寸、文件名称也经常用到。\n"
   ]
  },
  {
   "cell_type": "markdown",
   "metadata": {},
   "source": [
    "### 4.1 批量更改文件名后缀，生成.jpg文件"
   ]
  },
  {
   "cell_type": "code",
   "execution_count": null,
   "metadata": {
    "scrolled": true,
    "tags": []
   },
   "outputs": [],
   "source": [
    "#解压数据集到work文件夹路径下，已经解压过就不必再次运行，不然会报错\n",
    "!unzip data/data165091/voc_data.zip -d ~/work/"
   ]
  },
  {
   "cell_type": "code",
   "execution_count": 2,
   "metadata": {
    "execution": {
     "iopub.execute_input": "2022-08-17T02:12:21.120128Z",
     "iopub.status.busy": "2022-08-17T02:12:21.119406Z",
     "iopub.status.idle": "2022-08-17T02:12:21.125829Z",
     "shell.execute_reply": "2022-08-17T02:12:21.125045Z",
     "shell.execute_reply.started": "2022-08-17T02:12:21.120093Z"
    },
    "scrolled": true,
    "tags": []
   },
   "outputs": [],
   "source": [
    "# 批量生成.jpg文件\n",
    "import os\n",
    "# file_dir 文件目录 old_suffix 原后缀 new_suffix 新后缀\n",
    "def change_suffix(file_dir, old_suffix, new_suffix):\n",
    "    for file_name in os.listdir(file_dir):\n",
    "        # os.path.splitext 分割文件主名和后缀名\n",
    "        split_file = os.path.splitext(file_name)\n",
    "        # 获得文件后缀 split_file[0] 文件主名 split_file[1] 后缀名\n",
    "        file_suffix = split_file[1]\n",
    "        if old_suffix == file_suffix:\n",
    "            new_file_name = split_file[0] + new_suffix\n",
    "            # os.rename 重命名\n",
    "            os.rename(os.path.join(file_dir, file_name), os.path.join(file_dir, new_file_name))\n",
    "\n",
    "if __name__=='__main__':\n",
    "    change_suffix('work/voc_data/JPEGImages', '.JPG', '.jpg')"
   ]
  },
  {
   "cell_type": "markdown",
   "metadata": {},
   "source": [
    "### 4.2 批量修改图像尺寸\n",
    "注意文件路径，不要多或者少“/”，不然会报错"
   ]
  },
  {
   "cell_type": "code",
   "execution_count": 4,
   "metadata": {
    "execution": {
     "iopub.execute_input": "2022-08-17T02:57:15.444790Z",
     "iopub.status.busy": "2022-08-17T02:57:15.443988Z",
     "iopub.status.idle": "2022-08-17T02:57:15.897364Z",
     "shell.execute_reply": "2022-08-17T02:57:15.896307Z",
     "shell.execute_reply.started": "2022-08-17T02:57:15.444753Z"
    },
    "scrolled": true,
    "tags": []
   },
   "outputs": [],
   "source": [
    "import cv2\n",
    "import os\n",
    "\n",
    "os.mkdir(r\"data_plus\") #创建新文件夹\n",
    "path = 'work/voc_data/JPEGImages/' #原图像路径\n",
    "save_path = 'data_plus/'  # 修改后的图像路径\n",
    "files = os.listdir(path)\n",
    "\n",
    "for file in files:\n",
    "    img = cv2.imread(path + \"/\" + file)\n",
    "    # img = cv2.cvtColor(img,cv2.COLOR_BGR2GRAY) 转化为灰度图\n",
    "    try:\n",
    "        img = cv2.resize(img,(640,640))\n",
    "        cv2.imwrite(save_path+\"/\"+str(file),img)\n",
    "    except:\n",
    "        continue\n",
    "    "
   ]
  },
  {
   "cell_type": "markdown",
   "metadata": {},
   "source": [
    "### 4.3 批量修改文件名称"
   ]
  },
  {
   "cell_type": "code",
   "execution_count": null,
   "metadata": {
    "scrolled": true,
    "tags": []
   },
   "outputs": [],
   "source": [
    "import os\n",
    " \n",
    "# 函数功能：批量修改文件夹路径下所有文件的文件名，在文件名前加数字7\n",
    "def change_file_name(dir_path):\n",
    "    files = os.listdir(dir_path)  # 读取文件名\n",
    "    for i in files:\n",
    "        #设置旧文件名（路径+文件名）\n",
    "        oldname=os.path.join(dir_path,i)\n",
    "        #设置新文件名\n",
    "        newname=os.path.join(dir_path,'7'+i)\n",
    "        #用os模块中的rename方法对文件改名\n",
    "        os.rename(oldname,newname)\n",
    "        print(oldname,'======>',newname)\n",
    "\n",
    "if __name__=='__main__':\n",
    "    change_file_name('data_plus')"
   ]
  },
  {
   "cell_type": "markdown",
   "metadata": {},
   "source": [
    "## 五、VOC数据集制作\n",
    "\n",
    "### 5.1 数据文件夹结构\n",
    "![](https://ai-studio-static-online.cdn.bcebos.com/b321979d57fd4f7ebf28aa33a840ac45f9fd8aabfb8a427b93a6924c904ec790)\n",
    "\n",
    "\n",
    "**操作步骤**：首先在自己电脑上创建一个MyDataset文件夹，文件夹包含JPEGImage文件夹和Annotations文件夹(名称必须是这样命名)然后将转换好的.jpg格式保存在JPEGImage文件夹，将标注好的.xml文件保存在Annotations文件夹中。本项目提供了模板，保存在\n",
    "data/data165091/voc_data.zip目录，可直接下载。\n",
    "### 5.2 用labelimage生成标注.xml文件\n",
    "飞浆支持labelimage,labelme,标注精灵生成的.xml文件进行目标检测任务。\n",
    "\n",
    "[labelimage下载链接](https://blog.csdn.net/python_pycharm/article/details/85338801)\n",
    "\n",
    "**操作步骤：**双击labelImg执行文件图标，会出现操作界面，不用理会端口界面：\n",
    "![](https://ai-studio-static-online.cdn.bcebos.com/cf7c360ee86a482896d9b1e0c8da7cb08aa5c43ec7bc49df91ad698f8d6ef8c4)\n",
    "\n",
    "点击opendir打开创建好的JPEGImage文件夹，点击change save dir，将文件保存在Annotations文件夹里面，点击左中间creatbox就可以进行标注，生成对应图像的标注信息。\n",
    "\n",
    "\n",
    "\n",
    "**tips：**点击左上角view,勾选第一个自动保存模型就不用每次都手动点击了。\n",
    "\n",
    "![](https://ai-studio-static-online.cdn.bcebos.com/674bc7fe728e4fd7a811a39229362d964fb3f433e0b04885a37003c5b77b1c9d)\n",
    "\n",
    "### 5.3 如何生成负样本标注文件\n",
    "生成负样本数据可以适当地降低误检率\n",
    "\n",
    "**操作步骤：**先框选，后删除，生成空的.xml文件，可以看到xml文件里的object节点不存在，这就是我们需要的负样本。![](https://ai-studio-static-online.cdn.bcebos.com/d1d1d97caeaa4eb1862ae6d035ea02b55469a8e9d7a940cea9458ef8e5d2795c)![](https://ai-studio-static-online.cdn.bcebos.com/d23c0295c03a421ab98620ff777aab4519fc13b7f75d4de996df3686557e7bc3)\n",
    "\n",
    "### 5.4 上传数据集\n",
    "如果需要通过aistudio平台进行训练，一般将自己生成的数据集上传到个人数据集里。\n",
    "\n",
    "**操作步骤：**进入个人主页=>数据集=>创建数据集=>创建项目=>添加数据集=>个人数据集\n",
    "\n",
    "![](https://ai-studio-static-online.cdn.bcebos.com/488374fe3842488d98482e91564ed797854406a863714d0ba24ee70cf0781190)\n",
    "![](https://ai-studio-static-online.cdn.bcebos.com/3c68bae4243c4adea05992ef4fa89d6786592ab0c702401c81fa9921ce7e4d4f)\n",
    "\n",
    "\n",
    "\n",
    "\n",
    "\n",
    "\n",
    "\n"
   ]
  },
  {
   "cell_type": "markdown",
   "metadata": {},
   "source": [
    "## 六、VOC转COCO格式\n",
    "PaddleDetection有时候需要用到COCO数据集格式，在这里们进行一个数据格式转换，格式转化需要用到paddledetection的x2coco.py接口\n",
    "\n",
    "\n",
    "\n",
    "\n",
    "\n",
    "[官方链接：用户数据转换成COCO数据](https://github.com/PaddlePaddle/PaddleDetection/blob/release/2.4/docs/tutorials/PrepareDataSet.md#%E7%94%A8%E6%88%B7%E6%95%B0%E6%8D%AE%E8%BD%AC%E6%88%90COCO%E6%95%B0%E6%8D%AE)\n",
    "\n"
   ]
  },
  {
   "cell_type": "code",
   "execution_count": 2,
   "metadata": {
    "execution": {
     "iopub.execute_input": "2022-08-16T14:45:36.506364Z",
     "iopub.status.busy": "2022-08-16T14:45:36.505815Z",
     "iopub.status.idle": "2022-08-16T14:46:23.322912Z",
     "shell.execute_reply": "2022-08-16T14:46:23.321624Z",
     "shell.execute_reply.started": "2022-08-16T14:45:36.506332Z"
    },
    "scrolled": true,
    "tags": []
   },
   "outputs": [
    {
     "name": "stdout",
     "output_type": "stream",
     "text": [
      "正克隆到 'PaddleDetection'...\n",
      "remote: Enumerating objects: 28000, done.\u001b[K\n",
      "remote: Counting objects: 100% (8470/8470), done.\u001b[K\n",
      "remote: Compressing objects: 100% (3450/3450), done.\u001b[K\n",
      "remote: Total 28000 (delta 6365), reused 6821 (delta 4999), pack-reused 19530\u001b[K\n",
      "接收对象中: 100% (28000/28000), 299.63 MiB | 17.40 MiB/s, 完成.\n",
      "处理 delta 中: 100% (20914/20914), 完成.\n",
      "检查连接... 完成。\n",
      "正在检出文件: 100% (1973/1973), 完成.\n"
     ]
    }
   ],
   "source": [
    "#克隆PaddleDetection仓库\n",
    "!git clone https://gitee.com/paddlepaddle/PaddleDetection.git -b release/2.4"
   ]
  },
  {
   "cell_type": "code",
   "execution_count": 28,
   "metadata": {
    "execution": {
     "iopub.execute_input": "2022-08-16T15:13:59.195060Z",
     "iopub.status.busy": "2022-08-16T15:13:59.193823Z",
     "iopub.status.idle": "2022-08-16T15:13:59.205120Z",
     "shell.execute_reply": "2022-08-16T15:13:59.204166Z",
     "shell.execute_reply.started": "2022-08-16T15:13:59.195018Z"
    },
    "scrolled": true,
    "tags": []
   },
   "outputs": [],
   "source": [
    "import random\n",
    "import os\n",
    "# 生成train.txt和val.txt\n",
    "random.seed(2020)\n",
    "xml_dir = '/home/aistudio/work/voc_data/Annotations'\n",
    "img_dir = '/home/aistudio/work/voc_data/JPEGImages'\n",
    "path_list = list()\n",
    "for img in os.listdir(img_dir):\n",
    "    img_path = os.path.join(img_dir,img)\n",
    "    xml_path = os.path.join(xml_dir,img.replace('jpg', 'xml'))\n",
    "    path_list.append((img_path, xml_path))\n",
    "random.shuffle(path_list)\n",
    "ratio = 0.5\n",
    "train_f = open('/home/aistudio/work/voc_data/train.txt', 'w') \n",
    "val_f = open('/home/aistudio/work/voc_data/val.txt', 'w')\n",
    "\n",
    "for i ,content in enumerate(path_list):\n",
    "    img, xml = content\n",
    "    text = img + ' ' + xml + '\\n'\n",
    "    if i < len(path_list) * ratio:\n",
    "        train_f.write(text)\n",
    "    else:\n",
    "        val_f.write(text)\n",
    "train_f.close()\n",
    "val_f.close()\n",
    "\n",
    "# 根据自己数据类别生成标签文档\n",
    "label = ['liewen']\n",
    "with open('/home/aistudio/work/voc_data/label_list.txt', 'w') as f:\n",
    "    for text in label:\n",
    "        f.write(text + '\\n')"
   ]
  },
  {
   "cell_type": "code",
   "execution_count": 29,
   "metadata": {
    "execution": {
     "iopub.execute_input": "2022-08-16T15:14:02.064485Z",
     "iopub.status.busy": "2022-08-16T15:14:02.063288Z",
     "iopub.status.idle": "2022-08-16T15:14:02.069530Z",
     "shell.execute_reply": "2022-08-16T15:14:02.068700Z",
     "shell.execute_reply.started": "2022-08-16T15:14:02.064451Z"
    },
    "scrolled": true,
    "tags": []
   },
   "outputs": [
    {
     "name": "stdout",
     "output_type": "stream",
     "text": [
      "/home/aistudio/PaddleDetection\n"
     ]
    }
   ],
   "source": [
    "# 进入paddledetetion套件路径\n",
    "%cd ~/PaddleDetection/"
   ]
  },
  {
   "cell_type": "code",
   "execution_count": 30,
   "metadata": {
    "execution": {
     "iopub.execute_input": "2022-08-16T15:16:16.565008Z",
     "iopub.status.busy": "2022-08-16T15:16:16.563852Z",
     "iopub.status.idle": "2022-08-16T15:16:17.337941Z",
     "shell.execute_reply": "2022-08-16T15:16:17.336778Z",
     "shell.execute_reply.started": "2022-08-16T15:16:16.564974Z"
    },
    "scrolled": true,
    "tags": []
   },
   "outputs": [
    {
     "name": "stdout",
     "output_type": "stream",
     "text": [
      "Start converting !\n",
      "100%|█████████████████████████████████████████| 12/12 [00:00<00:00, 4316.24it/s]\n"
     ]
    }
   ],
   "source": [
    "# 生成train.json\n",
    "!python tools/x2coco.py \\\n",
    "--dataset_type voc \\\n",
    "--voc_anno_dir /home/aistudio/work/voc_data/Annotations \\\n",
    "--voc_anno_list /home/aistudio/work/voc_data/train.txt \\\n",
    "--voc_label_list /home/aistudio/work/voc_data/label_list.txt \\\n",
    "--voc_out_name train.json"
   ]
  },
  {
   "cell_type": "markdown",
   "metadata": {},
   "source": [
    "**注意：如果运行失败，把train.txt或者val.txt里面的.ipynb_checkpoints数据删除重新保存即可。**转化完成的json文件路径存储在PaddleDetection/文件夹下\n",
    "\n",
    "![](https://ai-studio-static-online.cdn.bcebos.com/d50f5e303dd24242a8afcc62eb65a4079d4a53f9a5264c3aa81e98962eb6302d)\n",
    "\n"
   ]
  },
  {
   "cell_type": "code",
   "execution_count": 31,
   "metadata": {
    "execution": {
     "iopub.execute_input": "2022-08-16T15:16:19.898017Z",
     "iopub.status.busy": "2022-08-16T15:16:19.897429Z",
     "iopub.status.idle": "2022-08-16T15:16:20.610833Z",
     "shell.execute_reply": "2022-08-16T15:16:20.609784Z",
     "shell.execute_reply.started": "2022-08-16T15:16:19.897982Z"
    },
    "scrolled": true,
    "tags": []
   },
   "outputs": [
    {
     "name": "stdout",
     "output_type": "stream",
     "text": [
      "Start converting !\n",
      "100%|█████████████████████████████████████████| 10/10 [00:00<00:00, 4322.24it/s]\n"
     ]
    }
   ],
   "source": [
    "# 生成val.json\n",
    "!python tools/x2coco.py \\\n",
    "--dataset_type voc \\\n",
    "--voc_anno_dir /home/aistudio/work/voc_data/Annotations \\\n",
    "--voc_anno_list /home/aistudio/work/voc_data/val.txt \\\n",
    "--voc_label_list /home/aistudio/work/voc_data/label_list.txt \\\n",
    "--voc_out_name val.json"
   ]
  },
  {
   "cell_type": "markdown",
   "metadata": {},
   "source": [
    "## 七、参考资料\n",
    "\n",
    "\n",
    "----\n",
    "\n",
    "\n",
    "\n",
    "- [VOC转COCO数据集](https://aistudio.baidu.com/aistudio/projectdetail/4437812?channelType=0&channel=0)\n",
    "- [PaddleX官方链接](https://github.com/PaddlePaddle/PaddleX)\n",
    "- [PaddleDetection官方链接](https://github.com/PaddlePaddle/PaddleDetection)"
   ]
  },
  {
   "cell_type": "markdown",
   "metadata": {},
   "source": [
    "请点击[此处](https://ai.baidu.com/docs#/AIStudio_Project_Notebook/a38e5576)查看本环境基本用法.  <br>\n",
    "Please click [here ](https://ai.baidu.com/docs#/AIStudio_Project_Notebook/a38e5576) for more detailed instructions. "
   ]
  }
 ],
 "metadata": {
  "kernelspec": {
   "display_name": "Python 3",
   "language": "python",
   "name": "py35-paddle1.2.0"
  },
  "language_info": {
   "codemirror_mode": {
    "name": "ipython",
    "version": 3
   },
   "file_extension": ".py",
   "mimetype": "text/x-python",
   "name": "python",
   "nbconvert_exporter": "python",
   "pygments_lexer": "ipython3",
   "version": "3.7.4"
  }
 },
 "nbformat": 4,
 "nbformat_minor": 4
}
